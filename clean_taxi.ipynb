{
 "cells": [
  {
   "cell_type": "markdown",
   "id": "84582838-6795-46ae-a5de-ded5c977028d",
   "metadata": {},
   "source": [
    "### A little inspection and cleanup of taxi data\n",
    "\n",
    "Jeff Hale"
   ]
  },
  {
   "cell_type": "code",
   "execution_count": 1,
   "id": "c907d49f-2d8c-44f2-bba6-8fb180d35ca7",
   "metadata": {},
   "outputs": [],
   "source": [
    "import pandas as pd"
   ]
  },
  {
   "cell_type": "code",
   "execution_count": 91,
   "id": "b4b1cb2b-602b-4955-88a7-ddd3ab16b827",
   "metadata": {},
   "outputs": [
    {
     "name": "stdout",
     "output_type": "stream",
     "text": [
      "285504\n"
     ]
    },
    {
     "data": {
      "text/html": [
       "<div>\n",
       "<style scoped>\n",
       "    .dataframe tbody tr th:only-of-type {\n",
       "        vertical-align: middle;\n",
       "    }\n",
       "\n",
       "    .dataframe tbody tr th {\n",
       "        vertical-align: top;\n",
       "    }\n",
       "\n",
       "    .dataframe thead th {\n",
       "        text-align: right;\n",
       "    }\n",
       "</style>\n",
       "<table border=\"1\" class=\"dataframe\">\n",
       "  <thead>\n",
       "    <tr style=\"text-align: right;\">\n",
       "      <th></th>\n",
       "      <th>_id</th>\n",
       "      <th>genres</th>\n",
       "      <th>image_url</th>\n",
       "      <th>imdb_id</th>\n",
       "      <th>imdb_link</th>\n",
       "      <th>movie_id</th>\n",
       "      <th>movie_title</th>\n",
       "      <th>original_language</th>\n",
       "      <th>overview</th>\n",
       "      <th>popularity</th>\n",
       "      <th>production_countries</th>\n",
       "      <th>release_date</th>\n",
       "      <th>runtime</th>\n",
       "      <th>spoken_languages</th>\n",
       "      <th>tmdb_id</th>\n",
       "      <th>tmdb_link</th>\n",
       "      <th>vote_average</th>\n",
       "      <th>vote_count</th>\n",
       "      <th>year_released</th>\n",
       "    </tr>\n",
       "  </thead>\n",
       "  <tbody>\n",
       "    <tr>\n",
       "      <th>0</th>\n",
       "      <td>5fc85f606758f69634496fd3</td>\n",
       "      <td>[\"Music\", \"Animation\"]</td>\n",
       "      <td>film-poster/4/6/4/4/4/0/464440-football-freaks...</td>\n",
       "      <td>NaN</td>\n",
       "      <td>NaN</td>\n",
       "      <td>football-freaks</td>\n",
       "      <td>Football Freaks</td>\n",
       "      <td>en</td>\n",
       "      <td>Football crazy, football mad. Don’t watch this...</td>\n",
       "      <td>0.6</td>\n",
       "      <td>[\"United Kingdom\"]</td>\n",
       "      <td>1971-12-05</td>\n",
       "      <td>0.0</td>\n",
       "      <td>[]</td>\n",
       "      <td>535272.0</td>\n",
       "      <td>https://www.themoviedb.org/movie/535272/</td>\n",
       "      <td>0.0</td>\n",
       "      <td>0.0</td>\n",
       "      <td>1971.0</td>\n",
       "    </tr>\n",
       "    <tr>\n",
       "      <th>1</th>\n",
       "      <td>5fc85ff26758f696344ace0c</td>\n",
       "      <td>[]</td>\n",
       "      <td>film-poster/2/4/5/5/0/0/245500-aftermath-0-230...</td>\n",
       "      <td>tt0586129</td>\n",
       "      <td>http://www.imdb.com/title/tt0586129/maindetails</td>\n",
       "      <td>aftermath-1960</td>\n",
       "      <td>Aftermath</td>\n",
       "      <td>en</td>\n",
       "      <td>Aftermath was the pilot for an unsold TV serie...</td>\n",
       "      <td>0.6</td>\n",
       "      <td>[]</td>\n",
       "      <td>1960-04-17</td>\n",
       "      <td>22.0</td>\n",
       "      <td>[]</td>\n",
       "      <td>318331.0</td>\n",
       "      <td>https://www.themoviedb.org/movie/318331/</td>\n",
       "      <td>8.0</td>\n",
       "      <td>1.0</td>\n",
       "      <td>1960.0</td>\n",
       "    </tr>\n",
       "  </tbody>\n",
       "</table>\n",
       "</div>"
      ],
      "text/plain": [
       "                        _id                  genres  \\\n",
       "0  5fc85f606758f69634496fd3  [\"Music\", \"Animation\"]   \n",
       "1  5fc85ff26758f696344ace0c                      []   \n",
       "\n",
       "                                           image_url    imdb_id  \\\n",
       "0  film-poster/4/6/4/4/4/0/464440-football-freaks...        NaN   \n",
       "1  film-poster/2/4/5/5/0/0/245500-aftermath-0-230...  tt0586129   \n",
       "\n",
       "                                         imdb_link         movie_id  \\\n",
       "0                                              NaN  football-freaks   \n",
       "1  http://www.imdb.com/title/tt0586129/maindetails   aftermath-1960   \n",
       "\n",
       "       movie_title original_language  \\\n",
       "0  Football Freaks                en   \n",
       "1        Aftermath                en   \n",
       "\n",
       "                                            overview  popularity  \\\n",
       "0  Football crazy, football mad. Don’t watch this...         0.6   \n",
       "1  Aftermath was the pilot for an unsold TV serie...         0.6   \n",
       "\n",
       "  production_countries release_date  runtime spoken_languages   tmdb_id  \\\n",
       "0   [\"United Kingdom\"]   1971-12-05      0.0               []  535272.0   \n",
       "1                   []   1960-04-17     22.0               []  318331.0   \n",
       "\n",
       "                                  tmdb_link  vote_average  vote_count  \\\n",
       "0  https://www.themoviedb.org/movie/535272/           0.0         0.0   \n",
       "1  https://www.themoviedb.org/movie/318331/           8.0         1.0   \n",
       "\n",
       "   year_released  \n",
       "0         1971.0  \n",
       "1         1960.0  "
      ]
     },
     "execution_count": 91,
     "metadata": {},
     "output_type": "execute_result"
    }
   ],
   "source": [
    "df_movies = pd.read_csv(\"data/movie_data.csv\", lineterminator='\\n')#, dtype = {'_id':str, 'image_url':str,'imdb_id':str,'imdb_link':str,'movie_id':str,'movie_title':str,'original_language':str, 'overview':str,'tmdb_link':str})\n",
    "# df_movies[\"genres\"] = df_movies[\"genres\"].fillna('').replace('[]', '').apply(lambda x: str(x)[1:-1].split(','))\n",
    "# df_movies[\"production_countries\"] = df_movies[\"production_countries\"].fillna('').replace('[]', '').apply(lambda x: str(x)[1:-1].split(','))\n",
    "# df_movies[\"spoken_languages\"] = df_movies[\"spoken_languages\"].fillna('').replace('[]', '').apply(lambda x: str(x)[1:-1].split(','))\n",
    "print(len(df_movies))\n",
    "df_movies.head(2) "
   ]
  },
  {
   "cell_type": "code",
   "execution_count": 92,
   "id": "f6a73628",
   "metadata": {},
   "outputs": [
    {
     "name": "stdout",
     "output_type": "stream",
     "text": [
      "11078167\n"
     ]
    },
    {
     "data": {
      "text/html": [
       "<div>\n",
       "<style scoped>\n",
       "    .dataframe tbody tr th:only-of-type {\n",
       "        vertical-align: middle;\n",
       "    }\n",
       "\n",
       "    .dataframe tbody tr th {\n",
       "        vertical-align: top;\n",
       "    }\n",
       "\n",
       "    .dataframe thead th {\n",
       "        text-align: right;\n",
       "    }\n",
       "</style>\n",
       "<table border=\"1\" class=\"dataframe\">\n",
       "  <thead>\n",
       "    <tr style=\"text-align: right;\">\n",
       "      <th></th>\n",
       "      <th>_id</th>\n",
       "      <th>movie_id</th>\n",
       "      <th>rating_val</th>\n",
       "      <th>user_id</th>\n",
       "    </tr>\n",
       "  </thead>\n",
       "  <tbody>\n",
       "    <tr>\n",
       "      <th>0</th>\n",
       "      <td>5fc57c5d6758f6963451a07f</td>\n",
       "      <td>feast-2014</td>\n",
       "      <td>7</td>\n",
       "      <td>deathproof</td>\n",
       "    </tr>\n",
       "    <tr>\n",
       "      <th>1</th>\n",
       "      <td>5fc57c5d6758f6963451a063</td>\n",
       "      <td>loving-2016</td>\n",
       "      <td>7</td>\n",
       "      <td>deathproof</td>\n",
       "    </tr>\n",
       "  </tbody>\n",
       "</table>\n",
       "</div>"
      ],
      "text/plain": [
       "                        _id     movie_id  rating_val     user_id\n",
       "0  5fc57c5d6758f6963451a07f   feast-2014           7  deathproof\n",
       "1  5fc57c5d6758f6963451a063  loving-2016           7  deathproof"
      ]
     },
     "execution_count": 92,
     "metadata": {},
     "output_type": "execute_result"
    }
   ],
   "source": [
    "df_ratings = pd.read_csv(\"data/ratings_export.csv\", lineterminator='\\n')#,  dtype = {'_id':str,'movie_id':str,'user_id':str})\n",
    "print(len(df_ratings))\n",
    "df_ratings.head(2)\n"
   ]
  },
  {
   "cell_type": "code",
   "execution_count": 93,
   "id": "dfa30c0a",
   "metadata": {},
   "outputs": [
    {
     "name": "stdout",
     "output_type": "stream",
     "text": [
      "8139\n"
     ]
    },
    {
     "data": {
      "text/html": [
       "<div>\n",
       "<style scoped>\n",
       "    .dataframe tbody tr th:only-of-type {\n",
       "        vertical-align: middle;\n",
       "    }\n",
       "\n",
       "    .dataframe tbody tr th {\n",
       "        vertical-align: top;\n",
       "    }\n",
       "\n",
       "    .dataframe thead th {\n",
       "        text-align: right;\n",
       "    }\n",
       "</style>\n",
       "<table border=\"1\" class=\"dataframe\">\n",
       "  <thead>\n",
       "    <tr style=\"text-align: right;\">\n",
       "      <th></th>\n",
       "      <th>_id</th>\n",
       "      <th>display_name</th>\n",
       "      <th>num_ratings_pages</th>\n",
       "      <th>num_reviews</th>\n",
       "      <th>username</th>\n",
       "    </tr>\n",
       "  </thead>\n",
       "  <tbody>\n",
       "    <tr>\n",
       "      <th>0</th>\n",
       "      <td>5fc4172ec6cd28ebd99dd0e2</td>\n",
       "      <td>Lucy</td>\n",
       "      <td>32.0</td>\n",
       "      <td>1650</td>\n",
       "      <td>deathproof</td>\n",
       "    </tr>\n",
       "    <tr>\n",
       "      <th>1</th>\n",
       "      <td>5fc4172ec6cd28ebd99dd0ea</td>\n",
       "      <td>Matt Singer</td>\n",
       "      <td>52.0</td>\n",
       "      <td>1915</td>\n",
       "      <td>superpulse</td>\n",
       "    </tr>\n",
       "  </tbody>\n",
       "</table>\n",
       "</div>"
      ],
      "text/plain": [
       "                        _id display_name  num_ratings_pages  num_reviews  \\\n",
       "0  5fc4172ec6cd28ebd99dd0e2         Lucy               32.0         1650   \n",
       "1  5fc4172ec6cd28ebd99dd0ea  Matt Singer               52.0         1915   \n",
       "\n",
       "     username  \n",
       "0  deathproof  \n",
       "1  superpulse  "
      ]
     },
     "execution_count": 93,
     "metadata": {},
     "output_type": "execute_result"
    }
   ],
   "source": [
    "df_users = pd.read_csv(\"data/users_export.csv\", lineterminator='\\n')\n",
    "print(len(df_users))\n",
    "df_users.head(2)"
   ]
  },
  {
   "cell_type": "markdown",
   "id": "581ea1ac",
   "metadata": {},
   "source": [
    "We should fix the mixed dtypes"
   ]
  },
  {
   "cell_type": "code",
   "execution_count": 95,
   "id": "a955b972",
   "metadata": {},
   "outputs": [
    {
     "data": {
      "text/plain": [
       "_id                             object\n",
       "genres                          object\n",
       "image_url                       object\n",
       "imdb_id                         object\n",
       "imdb_link                       object\n",
       "movie_id                        object\n",
       "movie_title                     object\n",
       "original_language               object\n",
       "overview                        object\n",
       "popularity                     float64\n",
       "production_countries            object\n",
       "release_date            datetime64[ns]\n",
       "runtime                        float64\n",
       "spoken_languages                object\n",
       "tmdb_id                        float64\n",
       "tmdb_link                       object\n",
       "vote_average                   float64\n",
       "vote_count                     float64\n",
       "year_released                  float64\n",
       "dtype: object"
      ]
     },
     "execution_count": 95,
     "metadata": {},
     "output_type": "execute_result"
    }
   ],
   "source": [
    "df_movies['release_date'] = pd.to_datetime(df_movies['release_date'])\n",
    "df_movies.dtypes"
   ]
  },
  {
   "cell_type": "code",
   "execution_count": 90,
   "id": "d914321f-905e-45cc-9d8a-52b042831d30",
   "metadata": {},
   "outputs": [
    {
     "data": {
      "text/plain": [
       "_id           object\n",
       "movie_id      object\n",
       "rating_val     int64\n",
       "user_id       object\n",
       "dtype: object"
      ]
     },
     "execution_count": 90,
     "metadata": {},
     "output_type": "execute_result"
    }
   ],
   "source": [
    "df_ratings.dtypes"
   ]
  },
  {
   "cell_type": "code",
   "execution_count": 83,
   "id": "6a35c1a7",
   "metadata": {},
   "outputs": [
    {
     "data": {
      "text/plain": [
       "_id                   object\n",
       "display_name          object\n",
       "num_ratings_pages    float64\n",
       "num_reviews            int64\n",
       "username              object\n",
       "dtype: object"
      ]
     },
     "execution_count": 83,
     "metadata": {},
     "output_type": "execute_result"
    }
   ],
   "source": [
    "df_users.dtypes"
   ]
  },
  {
   "cell_type": "markdown",
   "id": "5fc5d820-26c5-457d-bd2e-188bfd1079d8",
   "metadata": {},
   "source": [
    "## Transforms\n",
    "### Change the date columns from string to datetime format"
   ]
  },
  {
   "cell_type": "code",
   "execution_count": 96,
   "id": "91e55c42-561a-4e0c-bea8-9150fe2d0200",
   "metadata": {},
   "outputs": [
    {
     "data": {
      "text/html": [
       "<div>\n",
       "<style scoped>\n",
       "    .dataframe tbody tr th:only-of-type {\n",
       "        vertical-align: middle;\n",
       "    }\n",
       "\n",
       "    .dataframe tbody tr th {\n",
       "        vertical-align: top;\n",
       "    }\n",
       "\n",
       "    .dataframe thead th {\n",
       "        text-align: right;\n",
       "    }\n",
       "</style>\n",
       "<table border=\"1\" class=\"dataframe\">\n",
       "  <thead>\n",
       "    <tr style=\"text-align: right;\">\n",
       "      <th></th>\n",
       "      <th>_id</th>\n",
       "      <th>genres</th>\n",
       "      <th>image_url</th>\n",
       "      <th>imdb_id</th>\n",
       "      <th>imdb_link</th>\n",
       "      <th>movie_id</th>\n",
       "      <th>movie_title</th>\n",
       "      <th>original_language</th>\n",
       "      <th>overview</th>\n",
       "      <th>popularity</th>\n",
       "      <th>production_countries</th>\n",
       "      <th>release_date</th>\n",
       "      <th>runtime</th>\n",
       "      <th>spoken_languages</th>\n",
       "      <th>tmdb_id</th>\n",
       "      <th>tmdb_link</th>\n",
       "      <th>vote_average</th>\n",
       "      <th>vote_count</th>\n",
       "      <th>year_released</th>\n",
       "    </tr>\n",
       "  </thead>\n",
       "  <tbody>\n",
       "    <tr>\n",
       "      <th>0</th>\n",
       "      <td>5fc85f606758f69634496fd3</td>\n",
       "      <td>[\"Music\", \"Animation\"]</td>\n",
       "      <td>film-poster/4/6/4/4/4/0/464440-football-freaks...</td>\n",
       "      <td>NaN</td>\n",
       "      <td>NaN</td>\n",
       "      <td>football-freaks</td>\n",
       "      <td>Football Freaks</td>\n",
       "      <td>en</td>\n",
       "      <td>Football crazy, football mad. Don’t watch this...</td>\n",
       "      <td>0.6</td>\n",
       "      <td>[\"United Kingdom\"]</td>\n",
       "      <td>1971-12-05</td>\n",
       "      <td>0.0</td>\n",
       "      <td>[]</td>\n",
       "      <td>535272.0</td>\n",
       "      <td>https://www.themoviedb.org/movie/535272/</td>\n",
       "      <td>0.0</td>\n",
       "      <td>0.0</td>\n",
       "      <td>1971.0</td>\n",
       "    </tr>\n",
       "    <tr>\n",
       "      <th>1</th>\n",
       "      <td>5fc85ff26758f696344ace0c</td>\n",
       "      <td>[]</td>\n",
       "      <td>film-poster/2/4/5/5/0/0/245500-aftermath-0-230...</td>\n",
       "      <td>tt0586129</td>\n",
       "      <td>http://www.imdb.com/title/tt0586129/maindetails</td>\n",
       "      <td>aftermath-1960</td>\n",
       "      <td>Aftermath</td>\n",
       "      <td>en</td>\n",
       "      <td>Aftermath was the pilot for an unsold TV serie...</td>\n",
       "      <td>0.6</td>\n",
       "      <td>[]</td>\n",
       "      <td>1960-04-17</td>\n",
       "      <td>22.0</td>\n",
       "      <td>[]</td>\n",
       "      <td>318331.0</td>\n",
       "      <td>https://www.themoviedb.org/movie/318331/</td>\n",
       "      <td>8.0</td>\n",
       "      <td>1.0</td>\n",
       "      <td>1960.0</td>\n",
       "    </tr>\n",
       "  </tbody>\n",
       "</table>\n",
       "</div>"
      ],
      "text/plain": [
       "                        _id                  genres  \\\n",
       "0  5fc85f606758f69634496fd3  [\"Music\", \"Animation\"]   \n",
       "1  5fc85ff26758f696344ace0c                      []   \n",
       "\n",
       "                                           image_url    imdb_id  \\\n",
       "0  film-poster/4/6/4/4/4/0/464440-football-freaks...        NaN   \n",
       "1  film-poster/2/4/5/5/0/0/245500-aftermath-0-230...  tt0586129   \n",
       "\n",
       "                                         imdb_link         movie_id  \\\n",
       "0                                              NaN  football-freaks   \n",
       "1  http://www.imdb.com/title/tt0586129/maindetails   aftermath-1960   \n",
       "\n",
       "       movie_title original_language  \\\n",
       "0  Football Freaks                en   \n",
       "1        Aftermath                en   \n",
       "\n",
       "                                            overview  popularity  \\\n",
       "0  Football crazy, football mad. Don’t watch this...         0.6   \n",
       "1  Aftermath was the pilot for an unsold TV serie...         0.6   \n",
       "\n",
       "  production_countries release_date  runtime spoken_languages   tmdb_id  \\\n",
       "0   [\"United Kingdom\"]   1971-12-05      0.0               []  535272.0   \n",
       "1                   []   1960-04-17     22.0               []  318331.0   \n",
       "\n",
       "                                  tmdb_link  vote_average  vote_count  \\\n",
       "0  https://www.themoviedb.org/movie/535272/           0.0         0.0   \n",
       "1  https://www.themoviedb.org/movie/318331/           8.0         1.0   \n",
       "\n",
       "   year_released  \n",
       "0         1971.0  \n",
       "1         1960.0  "
      ]
     },
     "execution_count": 96,
     "metadata": {},
     "output_type": "execute_result"
    }
   ],
   "source": [
    "df_movies.head(2)"
   ]
  },
  {
   "cell_type": "markdown",
   "id": "a58fb673",
   "metadata": {},
   "source": [
    "Because there are missing values, pandas converts to a float. We could have specified we wanted nullable integer dtype, but float is fine."
   ]
  },
  {
   "cell_type": "markdown",
   "id": "6185d168-1006-48a8-9aa3-b451986173f8",
   "metadata": {},
   "source": [
    "### Write out cleaned file"
   ]
  },
  {
   "cell_type": "code",
   "execution_count": 14,
   "id": "38a43e21-f9b9-44e1-9e30-2aa25e432783",
   "metadata": {},
   "outputs": [],
   "source": [
    "df.to_parquet(\"2022-07_yellow_cleaned.parquet\", compression='gzip')"
   ]
  },
  {
   "cell_type": "markdown",
   "id": "757cf1fd",
   "metadata": {},
   "source": [
    "The end"
   ]
  }
 ],
 "metadata": {
  "kernelspec": {
   "display_name": "base",
   "language": "python",
   "name": "python3"
  },
  "language_info": {
   "codemirror_mode": {
    "name": "ipython",
    "version": 3
   },
   "file_extension": ".py",
   "mimetype": "text/x-python",
   "name": "python",
   "nbconvert_exporter": "python",
   "pygments_lexer": "ipython3",
   "version": "3.10.8"
  },
  "vscode": {
   "interpreter": {
    "hash": "bdb908cc57355dbb5a003d7838c8989df6128b2109ab46b289dd5188981510ed"
   }
  }
 },
 "nbformat": 4,
 "nbformat_minor": 5
}
